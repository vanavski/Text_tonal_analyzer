{
 "cells": [
  {
   "cell_type": "code",
   "execution_count": 1,
   "metadata": {},
   "outputs": [],
   "source": [
    "# Copyright © 2018. All rights reserved.\n",
    "# Author: German Yakimov\n",
    "\n",
    "# Licensed under the Apache License, Version 2.0 (the \"License\");\n",
    "# you may not use this file except in compliance with the License.\n",
    "# You may obtain a copy of the License at\n",
    "#\n",
    "#     http://www.apache.org/licenses/LICENSE-2.0\n",
    "#\n",
    "# Unless required by applicable law or agreed to in writing, software\n",
    "# distributed under the License is distributed on an \"AS IS\" BASIS,\n",
    "# WITHOUT WARRANTIES OR CONDITIONS OF ANY KIND, either express or implied.\n",
    "# See the License for the specific language governing permissions and\n",
    "# limitations under the License.\n",
    "\n",
    "import json\n",
    "import os\n",
    "import platform\n",
    "import sys"
   ]
  },
  {
   "cell_type": "code",
   "execution_count": 2,
   "metadata": {},
   "outputs": [],
   "source": [
    "# from PyQt5.QtGui import QFont, QIcon\n",
    "# from PyQt5.QtWidgets import QWidget, QLabel, QLineEdit, QApplication, QPushButton, QMessageBox"
   ]
  },
  {
   "cell_type": "code",
   "execution_count": 3,
   "metadata": {},
   "outputs": [
    {
     "ename": "ModuleNotFoundError",
     "evalue": "No module named 'Python'",
     "output_type": "error",
     "traceback": [
      "\u001b[1;31m---------------------------------------------------------------------------\u001b[0m",
      "\u001b[1;31mModuleNotFoundError\u001b[0m                       Traceback (most recent call last)",
      "\u001b[1;32m<ipython-input-3-aa47b0be6a4e>\u001b[0m in \u001b[0;36m<module>\u001b[1;34m\u001b[0m\n\u001b[1;32m----> 1\u001b[1;33m \u001b[1;32mfrom\u001b[0m \u001b[0mPython\u001b[0m\u001b[1;33m.\u001b[0m\u001b[0mServices\u001b[0m\u001b[1;33m.\u001b[0m\u001b[0mFileReader\u001b[0m \u001b[1;32mimport\u001b[0m \u001b[0mFileReader\u001b[0m\u001b[1;33m\u001b[0m\u001b[1;33m\u001b[0m\u001b[0m\n\u001b[0m\u001b[0;32m      2\u001b[0m \u001b[1;32mfrom\u001b[0m \u001b[0mPython\u001b[0m\u001b[1;33m.\u001b[0m\u001b[0mServices\u001b[0m\u001b[1;33m.\u001b[0m\u001b[0mLogger\u001b[0m \u001b[1;32mimport\u001b[0m \u001b[0mLogger\u001b[0m\u001b[1;33m\u001b[0m\u001b[1;33m\u001b[0m\u001b[0m\n\u001b[0;32m      3\u001b[0m \u001b[1;32mfrom\u001b[0m \u001b[0mPython\u001b[0m\u001b[1;33m.\u001b[0m\u001b[0mServices\u001b[0m\u001b[1;33m.\u001b[0m\u001b[0mPathService\u001b[0m \u001b[1;32mimport\u001b[0m \u001b[0mPathService\u001b[0m\u001b[1;33m\u001b[0m\u001b[1;33m\u001b[0m\u001b[0m\n\u001b[0;32m      4\u001b[0m \u001b[1;32mfrom\u001b[0m \u001b[0mPython\u001b[0m\u001b[1;33m.\u001b[0m\u001b[0mServices\u001b[0m\u001b[1;33m.\u001b[0m\u001b[0mSpeechRecognizer\u001b[0m \u001b[1;32mimport\u001b[0m \u001b[0mSpeechRecognizer\u001b[0m\u001b[1;33m\u001b[0m\u001b[1;33m\u001b[0m\u001b[0m\n\u001b[0;32m      5\u001b[0m \u001b[1;32mfrom\u001b[0m \u001b[0mPython\u001b[0m\u001b[1;33m.\u001b[0m\u001b[0mTextTonalAnalyzer\u001b[0m \u001b[1;32mimport\u001b[0m \u001b[0mTextTonalAnalyzer\u001b[0m\u001b[1;33m\u001b[0m\u001b[1;33m\u001b[0m\u001b[0m\n",
      "\u001b[1;31mModuleNotFoundError\u001b[0m: No module named 'Python'"
     ]
    }
   ],
   "source": [
    "from Python.Services.FileReader import FileReader\n",
    "from Python.Services.Logger import Logger\n",
    "from Python.Services.PathService import PathService\n",
    "from Python.Services.SpeechRecognizer import SpeechRecognizer\n",
    "from Python.TextTonalAnalyzer import TextTonalAnalyzer"
   ]
  },
  {
   "cell_type": "code",
   "execution_count": null,
   "metadata": {},
   "outputs": [],
   "source": [
    "def launch():\n",
    "#     mode = read_mode()\n",
    "    mode = 'console'\n",
    "\n",
    "#     if mode == 'gui':\n",
    "#         app = QApplication(sys.argv)\n",
    "\n",
    "#         main_window = MainWindow()\n",
    "#         main_window.launch()\n",
    "\n",
    "#         sys.exit(app.exec_())\n",
    "\n",
    "    elif mode == 'console':\n",
    "        print('Console mode. To exit enter 0.')\n",
    "\n",
    "        text_tonal_analyzer = TextTonalAnalyzer('NBC')\n",
    "\n",
    "        while True:\n",
    "            text = input('\\ntext: ')\n",
    "\n",
    "            if text == '0':\n",
    "                exit(0)\n",
    "\n",
    "            text_tonal_analyzer.detect_tonal(text)\n",
    "            tonal, probability = text_tonal_analyzer.tonal, text_tonal_analyzer.probability\n",
    "\n",
    "            print(f'Tonal: {tonal}')\n",
    "            print(f'Probability: {probability}\\n')"
   ]
  },
  {
   "cell_type": "code",
   "execution_count": null,
   "metadata": {},
   "outputs": [],
   "source": [
    "launch()"
   ]
  },
  {
   "cell_type": "code",
   "execution_count": null,
   "metadata": {},
   "outputs": [],
   "source": [
    "# class MainWindow(QWidget):\n",
    "#     def __init__(self):\n",
    "#         super().__init__()\n",
    "#         self.os = platform.system().lower()\n",
    "\n",
    "#         # Services\n",
    "#         self._speech_recognizer = SpeechRecognizer()\n",
    "#         self._file_reader = FileReader()\n",
    "#         self.__logger = Logger()\n",
    "#         self._path_service = PathService()\n",
    "#         self._text_tonal_analyzer = TextTonalAnalyzer('NBC')\n",
    "\n",
    "#         self._config = None\n",
    "#         self._load_config()\n",
    "\n",
    "#         # GUI Elements\n",
    "#         self.line_edit = QLineEdit(self)\n",
    "#         self.answer_label = QLabel(self)\n",
    "#         self.voice_button = QPushButton(self)\n",
    "#         self.answer_button = QPushButton(self)\n",
    "#         self.file_dialog_button = QPushButton(self)\n",
    "#         self.delete_button = QPushButton(self)\n",
    "#         self.message_box = QMessageBox()"
   ]
  },
  {
   "cell_type": "code",
   "execution_count": null,
   "metadata": {},
   "outputs": [],
   "source": [
    "    def _load_config(self):\n",
    "        path_to_config = os.path.join(self._path_service.path_to_configs, 'demo.json')\n",
    "\n",
    "        if os.path.exists(path_to_config):\n",
    "            with open(path_to_config, 'r', encoding='utf-8') as file:\n",
    "                self._config = json.load(file)\n",
    "\n",
    "            if self.os == 'windows':\n",
    "                self._config = self._config['windows']\n",
    "            else:\n",
    "                self._config = self._config['darwin']\n",
    "        else:\n",
    "            self.__logger.fatal(\"Config for GUI doesn't exist.\", __name__)\n",
    "            exit(-1)"
   ]
  },
  {
   "cell_type": "code",
   "execution_count": null,
   "metadata": {},
   "outputs": [],
   "source": [
    "    def _configure_main_window(self):\n",
    "        self._set_base_params()\n",
    "\n",
    "        self._configure_line_edit()\n",
    "        self._configure_answer_button()\n",
    "        self.configure_voice_button()\n",
    "        self._configure_delete_button()\n",
    "        self._configure_file_dialog_button()\n",
    "        self._configure_answer_label()\n",
    "\n",
    "        self.__logger.info('Main window was successfully configured.', __name__)"
   ]
  },
  {
   "cell_type": "code",
   "execution_count": null,
   "metadata": {},
   "outputs": [],
   "source": [
    "    def _set_base_params(self):\n",
    "        self.setFixedSize(*self._config['size'])\n",
    "        self.setStyleSheet('QWidget { background-color: %s }' % self._config['background-color'])"
   ]
  },
  {
   "cell_type": "code",
   "execution_count": null,
   "metadata": {},
   "outputs": [],
   "source": [
    "    def _configure_line_edit(self):\n",
    "        self.line_edit.setToolTip('Enter the text here')\n",
    "        self.line_edit.returnPressed.connect(self._answer_button_clicked)\n",
    "\n",
    "        self.line_edit.resize(*self._config['line-edit']['size'])\n",
    "        self.line_edit.setStyleSheet('QWidget { background-color: %s }' %\n",
    "                                     self._config['line-edit']['background-color'])\n",
    "        self.line_edit.move(*self._config['line-edit']['coordinates'])\n",
    "        self.line_edit.setFont(QFont(*self._config['line-edit']['font']))"
   ]
  },
  {
   "cell_type": "code",
   "execution_count": null,
   "metadata": {},
   "outputs": [],
   "source": [
    "    def _configure_answer_button(self):\n",
    "        self.answer_button.clicked.connect(self._answer_button_clicked)\n",
    "        self.answer_button.setText('Start')\n",
    "        self.answer_button.setToolTip('Push to count tonal')\n",
    "\n",
    "        self.answer_button.setStyleSheet(\"\"\"\n",
    "                             QPushButton:hover { background-color: %s }\n",
    "                             QPushButton:!hover { background-color: %s }\n",
    "                             QPushButton:pressed { background-color: %s; }\n",
    "                         \"\"\" % (self._config['answer-button']['background-color']['hover'],\n",
    "                                self._config['answer-button']['background-color']['!hover'],\n",
    "                                self._config['answer-button']['background-color']['pressed']))\n",
    "        self.answer_button.resize(*self._config['answer-button']['size'])\n",
    "        self.answer_button.move(*self._config['answer-button']['coordinates'])\n",
    "        self.answer_button.setFont(QFont(*self._config['answer-button']['font']))"
   ]
  },
  {
   "cell_type": "code",
   "execution_count": null,
   "metadata": {},
   "outputs": [],
   "source": [
    "    def configure_voice_button(self):\n",
    "        self.voice_button.setText('🎙')\n",
    "        self.voice_button.setToolTip('Push to enter the text by speech')\n",
    "        self.voice_button.clicked.connect(self._voice_button_clicked)\n",
    "\n",
    "        self.voice_button.resize(*self._config['voice-button']['size'])\n",
    "        self.voice_button.setFont(QFont(*self._config['voice-button']['font']))\n",
    "        self.voice_button.move(*self._config['voice-button']['coordinates'])\n",
    "        self.voice_button.setStyleSheet(\"\"\"\n",
    "                             QPushButton:hover { background-color: %s }\n",
    "                             QPushButton:!hover { background-color: %s }\n",
    "                             QPushButton:pressed { background-color: %s; }\n",
    "                         \"\"\" % (self._config['voice-button']['background-color']['hover'],\n",
    "                                self._config['voice-button']['background-color']['!hover'],\n",
    "                                self._config['voice-button']['background-color']['pressed']))"
   ]
  },
  {
   "cell_type": "code",
   "execution_count": null,
   "metadata": {},
   "outputs": [],
   "source": [
    "    def _configure_delete_button(self):\n",
    "        self.delete_button.setText('✗')\n",
    "        self.delete_button.setToolTip('Push to clear text box')\n",
    "        self.delete_button.clicked.connect(self._delete_button_clicked)\n",
    "\n",
    "        self.delete_button.resize(*self._config['delete-button']['size'])\n",
    "        self.delete_button.setFont(QFont(*self._config['delete-button']['font']))\n",
    "        self.delete_button.move(*self._config['delete-button']['coordinates'])\n",
    "        self.delete_button.setStyleSheet(\"\"\"\n",
    "                             QPushButton:hover { background-color: %s }\n",
    "                             QPushButton:!hover { background-color: %s }\n",
    "                             QPushButton:pressed { background-color: %s; }\n",
    "                         \"\"\" % (self._config['delete-button']['background-color']['hover'],\n",
    "                                self._config['delete-button']['background-color']['!hover'],\n",
    "                                self._config['delete-button']['background-color']['pressed']))"
   ]
  },
  {
   "cell_type": "code",
   "execution_count": null,
   "metadata": {},
   "outputs": [],
   "source": [
    "    def _configure_file_dialog_button(self):\n",
    "        self.file_dialog_button.setText('📂')\n",
    "        self.file_dialog_button.setToolTip('Push to open file')\n",
    "        self.file_dialog_button.clicked.connect(self._file_dialog_button_clicked)\n",
    "\n",
    "        self.file_dialog_button.resize(*self._config['file-dialog-button']['size'])\n",
    "        self.file_dialog_button.setFont(QFont(*self._config['file-dialog-button']['font']))\n",
    "        self.file_dialog_button.move(*self._config['file-dialog-button']['coordinates'])\n",
    "        self.file_dialog_button.setStyleSheet(\"\"\"\n",
    "                             QPushButton:hover { background-color: %s }\n",
    "                             QPushButton:!hover { background-color: %s }\n",
    "                             QPushButton:pressed { background-color: %s; }\n",
    "                         \"\"\" % (self._config['file-dialog-button']['background-color']['hover'],\n",
    "                                self._config['file-dialog-button']['background-color']['!hover'],\n",
    "                                self._config['file-dialog-button']['background-color']['pressed']))"
   ]
  },
  {
   "cell_type": "code",
   "execution_count": null,
   "metadata": {},
   "outputs": [],
   "source": [
    "    def _configure_answer_label(self):\n",
    "        self.answer_label.move(*self._config['answer-label']['coordinates'])\n",
    "        self.answer_label.setFont(QFont(*self._config['answer-label']['font']))\n",
    "        self.answer_label.resize(*self._config['answer-label']['size'])"
   ]
  },
  {
   "cell_type": "code",
   "execution_count": null,
   "metadata": {},
   "outputs": [],
   "source": [
    "    def launch(self):\n",
    "        self.setWindowIcon(QIcon('icon.ico'))\n",
    "        self.setWindowTitle('Sentiment Analyser')\n",
    "\n",
    "        self._configure_main_window()\n",
    "        self.show()\n",
    "\n",
    "        self.__logger.info('Main window was successfully launched.', __name__)"
   ]
  },
  {
   "cell_type": "code",
   "execution_count": null,
   "metadata": {},
   "outputs": [],
   "source": [
    "    def _delete_button_clicked(self):\n",
    "        self.line_edit.clear()\n",
    "        self.answer_label.clear()"
   ]
  },
  {
   "cell_type": "code",
   "execution_count": null,
   "metadata": {},
   "outputs": [],
   "source": [
    "    def _voice_button_clicked(self):\n",
    "        self.message_box.question(self, 'Speak', 'You can start speeking.', QMessageBox.Ok)\n",
    "\n",
    "        speech_text = self._speech_recognizer.recognize_speech()\n",
    "\n",
    "        if speech_text == 'Unknown value':\n",
    "            try_again = QMessageBox.Yes\n",
    "\n",
    "            while try_again == QMessageBox.Yes and speech_text == 'Unknown value':\n",
    "                try_again = self.message_box.question(self, 'Error', 'Unknown value\\n Try again?',\n",
    "                                                      QMessageBox.Yes | QMessageBox.No)\n",
    "                if try_again == QMessageBox.No:\n",
    "                    break\n",
    "\n",
    "                speech_text = self._speech_recognizer.recognize_speech()\n",
    "\n",
    "        elif speech_text == 'Internet connection lost':\n",
    "            self.message_box.question(self, 'Error', 'Internet connection lost', QMessageBox.Ok)\n",
    "            return\n",
    "\n",
    "        elif speech_text == 'No microphone':\n",
    "            self.message_box.question(self, 'Error', 'Microphone was disconnected', QMessageBox.Ok)\n",
    "            return\n",
    "\n",
    "        if speech_text != 'Unknown value':\n",
    "            self.line_edit.setText(speech_text)\n",
    "\n",
    "            return"
   ]
  },
  {
   "cell_type": "code",
   "execution_count": null,
   "metadata": {},
   "outputs": [],
   "source": [
    "    def _file_dialog_button_clicked(self):\n",
    "        file_content = self._file_reader.get_file_content()\n",
    "\n",
    "        if file_content:\n",
    "            self.line_edit.setText(file_content)\n",
    "        else:\n",
    "            self.__logger.warning('Empty file.', __name__)\n",
    "\n",
    "    def _answer_button_clicked(self):\n",
    "        self._text_tonal_analyzer.detect_tonal(self.line_edit.text())\n",
    "\n",
    "        if self.os == 'windows':\n",
    "            if self._text_tonal_analyzer.tonal == 'positive':\n",
    "                self.answer_label.setStyleSheet('QLabel {color:rgba(0, 200, 100, 255)}')\n",
    "                self.answer_label.move(193.5, 180)\n",
    "\n",
    "            elif self._text_tonal_analyzer.tonal == 'negative':\n",
    "                self.answer_label.setStyleSheet('QLabel {color:rgba(255, 56, 20, 255)}')\n",
    "                self.answer_label.move(180, 180)\n",
    "\n",
    "        elif self.os == 'darwin':\n",
    "            if self._text_tonal_analyzer.tonal == 'positive':\n",
    "                self.answer_label.setStyleSheet('QLabel {color:rgba(0, 200, 100, 255)}')\n",
    "                self.answer_label.move(230, 210)\n",
    "\n",
    "            elif self._text_tonal_analyzer.tonal == 'negative':\n",
    "                self.answer_label.setStyleSheet('QLabel {color:rgba(255, 56, 20, 255)}')\n",
    "                self.answer_label.move(225, 210)\n",
    "\n",
    "        self.answer_label.setToolTip('Tonal and probability')\n",
    "\n",
    "        if self._text_tonal_analyzer.probability:\n",
    "            self.answer_label.setText(self._text_tonal_analyzer.tonal.capitalize() + '\\n' +\n",
    "                                      str(round(self._text_tonal_analyzer.probability * 100, 3)) + '%')\n",
    "        else:\n",
    "            self.answer_label.setText(self._text_tonal_analyzer.tonal.capitalize())"
   ]
  },
  {
   "cell_type": "code",
   "execution_count": null,
   "metadata": {},
   "outputs": [],
   "source": [
    "def read_mode():\n",
    "    modes = ['console', 'gui']\n",
    "    mode = input('mode (gui, console): ')\n",
    "\n",
    "    if mode not in modes:\n",
    "        mode = 'console'\n",
    "\n",
    "    return mode"
   ]
  },
  {
   "cell_type": "code",
   "execution_count": null,
   "metadata": {},
   "outputs": [],
   "source": [
    "def launch():\n",
    "#     mode = read_mode()\n",
    "    mode = 'console'\n",
    "\n",
    "#     if mode == 'gui':\n",
    "#         app = QApplication(sys.argv)\n",
    "\n",
    "#         main_window = MainWindow()\n",
    "#         main_window.launch()\n",
    "\n",
    "#         sys.exit(app.exec_())\n",
    "\n",
    "    elif mode == 'console':\n",
    "        print('Console mode. To exit enter 0.')\n",
    "\n",
    "        text_tonal_analyzer = TextTonalAnalyzer('NBC')\n",
    "\n",
    "        while True:\n",
    "            text = input('\\ntext: ')\n",
    "\n",
    "            if text == '0':\n",
    "                exit(0)\n",
    "\n",
    "            text_tonal_analyzer.detect_tonal(text)\n",
    "            tonal, probability = text_tonal_analyzer.tonal, text_tonal_analyzer.probability\n",
    "\n",
    "            print(f'Tonal: {tonal}')\n",
    "            print(f'Probability: {probability}\\n')"
   ]
  },
  {
   "cell_type": "code",
   "execution_count": null,
   "metadata": {},
   "outputs": [],
   "source": [
    "launch()"
   ]
  }
 ],
 "metadata": {
  "kernelspec": {
   "display_name": "Python 3",
   "language": "python",
   "name": "python3"
  },
  "language_info": {
   "codemirror_mode": {
    "name": "ipython",
    "version": 3
   },
   "file_extension": ".py",
   "mimetype": "text/x-python",
   "name": "python",
   "nbconvert_exporter": "python",
   "pygments_lexer": "ipython3",
   "version": "3.8.1"
  }
 },
 "nbformat": 4,
 "nbformat_minor": 4
}
